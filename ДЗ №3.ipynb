{
 "cells": [
  {
   "cell_type": "markdown",
   "metadata": {},
   "source": [
    "Импорт Библеотек"
   ]
  },
  {
   "cell_type": "code",
   "execution_count": 4,
   "metadata": {},
   "outputs": [],
   "source": [
    "import numpy as np\n",
    "import pandas as pd\n",
    "from sklearn.model_selection import train_test_split\n",
    "from sklearn.preprocessing import StandardScaler"
   ]
  },
  {
   "cell_type": "markdown",
   "metadata": {},
   "source": [
    "Генерация данных\n",
    "\n",
    "3 признака и целевая переменная"
   ]
  },
  {
   "cell_type": "code",
   "execution_count": 5,
   "metadata": {},
   "outputs": [],
   "source": [
    "data = np.random.rand(1000, 4)\n",
    "columns = ['Joke1', 'Joke2', 'Joke3', 'Anekdot']\n",
    "df = pd.DataFrame(data, columns=columns)"
   ]
  },
  {
   "cell_type": "markdown",
   "metadata": {},
   "source": [
    "Разделение данных"
   ]
  },
  {
   "cell_type": "code",
   "execution_count": 6,
   "metadata": {},
   "outputs": [],
   "source": [
    "X = df[['Joke1', 'Joke2', 'Joke3']].values\n",
    "y = df['Anekdot'].values.reshape(-1, 1)"
   ]
  },
  {
   "cell_type": "markdown",
   "metadata": {},
   "source": [
    "Нормализация"
   ]
  },
  {
   "cell_type": "code",
   "execution_count": 7,
   "metadata": {},
   "outputs": [],
   "source": [
    "scaler_X = StandardScaler()\n",
    "scaler_y = StandardScaler()\n",
    "X = scaler_X.fit_transform(X)\n",
    "y = scaler_y.fit_transform(y)"
   ]
  },
  {
   "cell_type": "markdown",
   "metadata": {},
   "source": [
    "Разделение на тестовую и тренировачную выборки"
   ]
  },
  {
   "cell_type": "code",
   "execution_count": 8,
   "metadata": {},
   "outputs": [],
   "source": [
    "X_train, X_test, y_train, y_test = train_test_split(X, y, test_size=0.2, random_state=42)"
   ]
  },
  {
   "cell_type": "markdown",
   "metadata": {},
   "source": [
    "Определение нейросети"
   ]
  },
  {
   "cell_type": "code",
   "execution_count": 9,
   "metadata": {},
   "outputs": [],
   "source": [
    "# Определение нейросети\n",
    "class SimpleNeuralNetwork:\n",
    "    def __init__(self, input_size, hidden_size, output_size, lr=0.1):\n",
    "        self.lr = lr\n",
    "        self.input_size = input_size\n",
    "        self.hidden_size = hidden_size\n",
    "        self.output_size = output_size\n",
    "        self.W1 = np.random.randn(input_size, hidden_size) * np.sqrt(2 / input_size)\n",
    "        self.b1 = np.zeros((1, hidden_size))\n",
    "        self.W2 = np.random.randn(hidden_size, output_size) * np.sqrt(2 / hidden_size)\n",
    "        self.b2 = np.zeros((1, output_size))\n",
    "\n",
    "    def relu(self, x):\n",
    "        return np.maximum(0, x)\n",
    "\n",
    "    def relu_derivative(self, x):\n",
    "        return (x > 0).astype(float)\n",
    "\n",
    "    def forward(self, X):\n",
    "        self.z1 = np.dot(X, self.W1) + self.b1\n",
    "        self.a1 = self.relu(self.z1)\n",
    "        self.z2 = np.dot(self.a1, self.W2) + self.b2\n",
    "        return self.z2  # Линейный выход для регрессии\n",
    "\n",
    "    def backward(self, X, y, output):\n",
    "        m = X.shape[0]\n",
    "        d_output = (output - y) / m  # Производная MSE\n",
    "        d_W2 = np.dot(self.a1.T, d_output)\n",
    "        d_b2 = np.sum(d_output, axis=0, keepdims=True)\n",
    "        d_a1 = np.dot(d_output, self.W2.T) * self.relu_derivative(self.a1)\n",
    "        d_W1 = np.dot(X.T, d_a1)\n",
    "        d_b1 = np.sum(d_a1, axis=0, keepdims=True)\n",
    "\n",
    "        self.W2 -= self.lr * d_W2\n",
    "        self.b2 -= self.lr * d_b2\n",
    "        self.W1 -= self.lr * d_W1\n",
    "        self.b1 -= self.lr * d_b1\n",
    "\n",
    "    def train(self, X, y, epochs=1000):\n",
    "        for epoch in range(epochs):\n",
    "            output = self.forward(X)\n",
    "            self.backward(X, y, output)\n",
    "            if epoch % 100 == 0 or epoch == epochs - 1:\n",
    "                loss = np.mean((output - y) ** 2)\n",
    "                print(f\"Epoch {epoch}, Loss: {loss:.4f}\")\n",
    "\n",
    "    def predict(self, X):\n",
    "        return self.forward(X)"
   ]
  },
  {
   "cell_type": "markdown",
   "metadata": {},
   "source": [
    "Запрос параметров у пользователя"
   ]
  },
  {
   "cell_type": "code",
   "execution_count": 10,
   "metadata": {},
   "outputs": [],
   "source": [
    "hidden_neurons = int(input(\"Введите количество нейронов в скрытом слое: \"))\n",
    "epochs = int(input(\"Введите количество эпох обучения: \"))"
   ]
  },
  {
   "cell_type": "markdown",
   "metadata": {},
   "source": [
    "Создание и обучение модели"
   ]
  },
  {
   "cell_type": "code",
   "execution_count": 11,
   "metadata": {},
   "outputs": [
    {
     "name": "stdout",
     "output_type": "stream",
     "text": [
      "Epoch 0, Loss: 4.5164\n",
      "Epoch 100, Loss: 1.0807\n",
      "Epoch 200, Loss: 1.0270\n",
      "Epoch 300, Loss: 1.0068\n",
      "Epoch 400, Loss: 0.9971\n",
      "Epoch 500, Loss: 0.9915\n",
      "Epoch 600, Loss: 0.9877\n",
      "Epoch 700, Loss: 0.9848\n",
      "Epoch 800, Loss: 0.9824\n",
      "Epoch 900, Loss: 0.9804\n",
      "Epoch 999, Loss: 0.9786\n"
     ]
    }
   ],
   "source": [
    "nn = SimpleNeuralNetwork(input_size=3, hidden_size=hidden_neurons, output_size=1, lr=0.01)\n",
    "nn.train(X_train, y_train, epochs=epochs)"
   ]
  },
  {
   "cell_type": "markdown",
   "metadata": {},
   "source": [
    "Оценка данных\n"
   ]
  },
  {
   "cell_type": "code",
   "execution_count": 12,
   "metadata": {},
   "outputs": [],
   "source": [
    "y_pred = nn.predict(X_test)\n",
    "y_pred = scaler_y.inverse_transform(y_pred)\n",
    "y_test = scaler_y.inverse_transform(y_test)"
   ]
  },
  {
   "cell_type": "markdown",
   "metadata": {},
   "source": [
    "Вывод несскольких значений для сравнения"
   ]
  },
  {
   "cell_type": "code",
   "execution_count": 13,
   "metadata": {},
   "outputs": [
    {
     "name": "stdout",
     "output_type": "stream",
     "text": [
      "Real vs Predicted:\n",
      "Real: 0.54, Predicted: 0.50\n",
      "Real: 0.30, Predicted: 0.53\n",
      "Real: 0.87, Predicted: 0.56\n",
      "Real: 0.67, Predicted: 0.50\n",
      "Real: 0.67, Predicted: 0.50\n",
      "Real: 0.29, Predicted: 0.46\n",
      "Real: 0.38, Predicted: 0.50\n",
      "Real: 0.23, Predicted: 0.45\n",
      "Real: 0.87, Predicted: 0.50\n",
      "Real: 0.76, Predicted: 0.47\n",
      "Real: 0.41, Predicted: 0.48\n",
      "Real: 0.06, Predicted: 0.48\n",
      "Real: 0.71, Predicted: 0.48\n",
      "Real: 0.25, Predicted: 0.42\n",
      "Real: 0.96, Predicted: 0.50\n",
      "Real: 0.83, Predicted: 0.47\n",
      "Real: 0.09, Predicted: 0.51\n",
      "Real: 0.91, Predicted: 0.50\n",
      "Real: 0.90, Predicted: 0.55\n",
      "Real: 0.68, Predicted: 0.46\n",
      "Real: 0.79, Predicted: 0.56\n",
      "Real: 0.07, Predicted: 0.44\n",
      "Real: 0.25, Predicted: 0.53\n",
      "Real: 0.41, Predicted: 0.47\n",
      "Real: 0.24, Predicted: 0.46\n",
      "Real: 0.98, Predicted: 0.44\n",
      "Real: 0.19, Predicted: 0.52\n",
      "Real: 0.85, Predicted: 0.44\n",
      "Real: 0.48, Predicted: 0.48\n",
      "Real: 0.40, Predicted: 0.53\n",
      "Real: 0.47, Predicted: 0.41\n",
      "Real: 0.42, Predicted: 0.48\n",
      "Real: 0.90, Predicted: 0.46\n",
      "Real: 0.66, Predicted: 0.47\n",
      "Real: 0.29, Predicted: 0.52\n",
      "Real: 0.69, Predicted: 0.55\n",
      "Real: 0.66, Predicted: 0.49\n",
      "Real: 0.09, Predicted: 0.48\n",
      "Real: 0.91, Predicted: 0.47\n",
      "Real: 0.59, Predicted: 0.55\n",
      "Real: 0.56, Predicted: 0.48\n",
      "Real: 0.91, Predicted: 0.46\n",
      "Real: 0.27, Predicted: 0.50\n",
      "Real: 0.67, Predicted: 0.58\n",
      "Real: 0.95, Predicted: 0.56\n",
      "Real: 0.58, Predicted: 0.53\n",
      "Real: 0.52, Predicted: 0.47\n",
      "Real: 0.45, Predicted: 0.52\n",
      "Real: 0.46, Predicted: 0.50\n",
      "Real: 0.98, Predicted: 0.46\n",
      "Real: 0.61, Predicted: 0.46\n",
      "Real: 0.04, Predicted: 0.52\n",
      "Real: 0.48, Predicted: 0.53\n",
      "Real: 0.73, Predicted: 0.47\n",
      "Real: 0.60, Predicted: 0.52\n",
      "Real: 0.28, Predicted: 0.45\n",
      "Real: 0.90, Predicted: 0.58\n",
      "Real: 0.78, Predicted: 0.57\n",
      "Real: 0.48, Predicted: 0.53\n",
      "Real: 0.33, Predicted: 0.54\n",
      "Real: 0.33, Predicted: 0.53\n",
      "Real: 0.84, Predicted: 0.52\n",
      "Real: 0.44, Predicted: 0.55\n",
      "Real: 0.95, Predicted: 0.54\n",
      "Real: 0.18, Predicted: 0.52\n",
      "Real: 0.59, Predicted: 0.52\n",
      "Real: 0.60, Predicted: 0.45\n",
      "Real: 0.37, Predicted: 0.59\n",
      "Real: 0.33, Predicted: 0.48\n",
      "Real: 0.29, Predicted: 0.50\n",
      "Real: 0.05, Predicted: 0.43\n",
      "Real: 0.48, Predicted: 0.49\n",
      "Real: 0.52, Predicted: 0.52\n",
      "Real: 0.67, Predicted: 0.47\n",
      "Real: 0.22, Predicted: 0.51\n",
      "Real: 0.97, Predicted: 0.46\n",
      "Real: 0.01, Predicted: 0.40\n",
      "Real: 0.69, Predicted: 0.53\n",
      "Real: 0.96, Predicted: 0.53\n",
      "Real: 0.55, Predicted: 0.59\n",
      "Real: 0.39, Predicted: 0.57\n",
      "Real: 0.69, Predicted: 0.51\n",
      "Real: 0.90, Predicted: 0.53\n",
      "Real: 0.90, Predicted: 0.43\n",
      "Real: 0.53, Predicted: 0.50\n",
      "Real: 0.56, Predicted: 0.43\n",
      "Real: 0.96, Predicted: 0.42\n",
      "Real: 0.77, Predicted: 0.52\n",
      "Real: 0.22, Predicted: 0.40\n",
      "Real: 0.83, Predicted: 0.48\n",
      "Real: 0.97, Predicted: 0.39\n",
      "Real: 0.43, Predicted: 0.47\n",
      "Real: 0.29, Predicted: 0.54\n",
      "Real: 0.17, Predicted: 0.49\n",
      "Real: 0.84, Predicted: 0.47\n",
      "Real: 0.97, Predicted: 0.49\n",
      "Real: 0.08, Predicted: 0.50\n",
      "Real: 0.08, Predicted: 0.44\n",
      "Real: 0.92, Predicted: 0.51\n",
      "Real: 0.53, Predicted: 0.43\n"
     ]
    }
   ],
   "source": [
    "print(\"Real vs Predicted:\")\n",
    "for real, pred in zip(y_test[:100], y_pred[:100]):\n",
    "    print(f\"Real: {real[0]:.2f}, Predicted: {pred[0]:.2f}\")"
   ]
  }
 ],
 "metadata": {
  "kernelspec": {
   "display_name": "base",
   "language": "python",
   "name": "python3"
  },
  "language_info": {
   "codemirror_mode": {
    "name": "ipython",
    "version": 3
   },
   "file_extension": ".py",
   "mimetype": "text/x-python",
   "name": "python",
   "nbconvert_exporter": "python",
   "pygments_lexer": "ipython3",
   "version": "3.12.7"
  }
 },
 "nbformat": 4,
 "nbformat_minor": 2
}
